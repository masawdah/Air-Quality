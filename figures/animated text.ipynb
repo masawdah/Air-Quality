{
 "cells": [
  {
   "cell_type": "markdown",
   "metadata": {},
   "source": [
    "## Add animated text to No2 image collections (GIF)  "
   ]
  },
  {
   "cell_type": "code",
   "execution_count": 9,
   "metadata": {},
   "outputs": [],
   "source": [
    "import geemap\n",
    "import ee"
   ]
  },
  {
   "cell_type": "code",
   "execution_count": 30,
   "metadata": {},
   "outputs": [],
   "source": [
    "phase_text = []\n",
    "for n in range(1, 31):\n",
    "    if n <=11:\n",
    "        phase_text.append('Pre-emergency')\n",
    "    elif n > 11 and n <=18:\n",
    "        phase_text.append('General Look down')\n",
    "    elif n > 18 and n <=20:\n",
    "        phase_text.append('Phase 1')\n",
    "    elif n > 20 and n <=24:\n",
    "        phase_text.append('Phase 2')\n",
    "    elif n > 24 and n <=25:\n",
    "        phase_text.append('Phase 3')\n",
    "    elif n > 25 and n <=26:\n",
    "        phase_text.append('New restrictions')\n",
    "    elif n > 26 and n <=30:\n",
    "        phase_text.append('Local lockdown')\n",
    "    "
   ]
  },
  {
   "cell_type": "code",
   "execution_count": 46,
   "metadata": {},
   "outputs": [],
   "source": [
    "text = [\"week\" + ' ' + str(n) for n in range(1, 31)]\n"
   ]
  },
  {
   "cell_type": "code",
   "execution_count": 41,
   "metadata": {},
   "outputs": [],
   "source": [
    "saved_gif20 = r\"E:\\Munster\\GTTDTK-2020\\GIF\\No2-2020.gif\"\n",
    "saved_gif19 = r\"E:\\Munster\\GTTDTK-2020\\GIF\\No2-2019.gif\""
   ]
  },
  {
   "cell_type": "code",
   "execution_count": 42,
   "metadata": {},
   "outputs": [],
   "source": [
    "out_gif20 = r\"E:\\Munster\\GTTDTK-2020\\GIF\\new_No2_2020.gif\"\n",
    "out_gif19 = r\"E:\\Munster\\GTTDTK-2020\\GIF\\new_No2_2019.gif\""
   ]
  },
  {
   "cell_type": "code",
   "execution_count": 43,
   "metadata": {},
   "outputs": [],
   "source": [
    "geemap.add_text_to_gif(saved_gif20, out_gif20, xy=('3%', '5%'), text_sequence=text, font_size=30, font_color='#ffffff')\n",
    "geemap.add_text_to_gif(saved_gif19, out_gif19, xy=('3%', '5%'), text_sequence=text, font_size=30, font_color='#ffffff')\n"
   ]
  },
  {
   "cell_type": "code",
   "execution_count": 44,
   "metadata": {},
   "outputs": [],
   "source": [
    "geemap.add_text_to_gif(out_gif20, out_gif20, xy=('32%', '92%'), text_sequence=phase_text, font_color='white')\n",
    "geemap.add_text_to_gif(out_gif19, out_gif19, xy=('32%', '92%'), text_sequence=phase_text, font_color='white')\n"
   ]
  },
  {
   "cell_type": "code",
   "execution_count": 45,
   "metadata": {},
   "outputs": [
    {
     "data": {
      "application/vnd.jupyter.widget-view+json": {
       "model_id": "fe9e9564baaf4db68ade62b74fc04f7d",
       "version_major": 2,
       "version_minor": 0
      },
      "text/plain": [
       "Output()"
      ]
     },
     "metadata": {},
     "output_type": "display_data"
    }
   ],
   "source": [
    "geemap.show_image(out_gif20)"
   ]
  },
  {
   "cell_type": "code",
   "execution_count": 40,
   "metadata": {},
   "outputs": [
    {
     "data": {
      "application/vnd.jupyter.widget-view+json": {
       "model_id": "6883356b3ccf453482392a82c0feb828",
       "version_major": 2,
       "version_minor": 0
      },
      "text/plain": [
       "Output()"
      ]
     },
     "metadata": {},
     "output_type": "display_data"
    }
   ],
   "source": [
    "geemap.show_image(out_gif19)"
   ]
  },
  {
   "cell_type": "code",
   "execution_count": null,
   "metadata": {},
   "outputs": [],
   "source": []
  }
 ],
 "metadata": {
  "kernelspec": {
   "display_name": "Python 3",
   "language": "python",
   "name": "python3"
  },
  "language_info": {
   "codemirror_mode": {
    "name": "ipython",
    "version": 3
   },
   "file_extension": ".py",
   "mimetype": "text/x-python",
   "name": "python",
   "nbconvert_exporter": "python",
   "pygments_lexer": "ipython3",
   "version": "3.7.4"
  }
 },
 "nbformat": 4,
 "nbformat_minor": 2
}
